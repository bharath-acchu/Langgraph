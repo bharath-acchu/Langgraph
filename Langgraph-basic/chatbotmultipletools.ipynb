{
 "cells": [
  {
   "cell_type": "code",
   "execution_count": 1,
   "id": "28b14431",
   "metadata": {},
   "outputs": [
    {
     "name": "stdout",
     "output_type": "stream",
     "text": [
      "Hello, lanngraph!!\n"
     ]
    }
   ],
   "source": [
    "print(\"Hello, lanngraph!!\")"
   ]
  },
  {
   "cell_type": "code",
   "execution_count": 2,
   "id": "05f089ce",
   "metadata": {},
   "outputs": [],
   "source": [
    "## tools\n",
    "from langchain_community.tools import ArxivQueryRun,WikipediaQueryRun\n",
    "from langchain_community.utilities import ArxivAPIWrapper,WikipediaAPIWrapper"
   ]
  },
  {
   "cell_type": "code",
   "execution_count": 3,
   "id": "9a27624a",
   "metadata": {},
   "outputs": [
    {
     "name": "stdout",
     "output_type": "stream",
     "text": [
      "arxiv\n"
     ]
    }
   ],
   "source": [
    "api_wrapper_arxiv = ArxivAPIWrapper(top_k_results=2, doc_content_chars_max=500)\n",
    "arxiv = ArxivQueryRun(api_wrapper=api_wrapper_arxiv,description=\"Query Arxiv\")\n",
    "\n",
    "print(arxiv.name)"
   ]
  },
  {
   "cell_type": "code",
   "execution_count": 6,
   "id": "bcb63915",
   "metadata": {},
   "outputs": [],
   "source": [
    "result = arxiv.invoke(\"Attention is all you need\")"
   ]
  },
  {
   "cell_type": "code",
   "execution_count": 7,
   "id": "af5610c4",
   "metadata": {},
   "outputs": [
    {
     "name": "stdout",
     "output_type": "stream",
     "text": [
      "Published: 2024-07-22\n",
      "Title: Attention Is All You Need But You Don't Need All Of It For Inference of Large Language Models\n",
      "Authors: Georgy Tyukin, Gbetondji J-S Dovonon, Jean Kaddour, Pasquale Minervini\n",
      "Summary: The inference demand for LLMs has skyrocketed in recent months, and serving\n",
      "models with low latencies remains challenging due to the quadratic input length\n",
      "complexity of the attention layers. In this work, we investigate the effect of\n",
      "dropping MLP and attention layers at inference time o\n"
     ]
    }
   ],
   "source": [
    "print(result)"
   ]
  },
  {
   "cell_type": "code",
   "execution_count": 10,
   "id": "05f43c4b",
   "metadata": {},
   "outputs": [
    {
     "name": "stdout",
     "output_type": "stream",
     "text": [
      "wikipedia\n"
     ]
    }
   ],
   "source": [
    "api_wrapper_wiki = WikipediaAPIWrapper(top_k_results=1, doc_content_chars_max=500)\n",
    "wiki = WikipediaQueryRun(api_wrapper=api_wrapper_wiki, description=\"Seaches wikipedia for results\")\n",
    "\n",
    "print(wiki.name)"
   ]
  },
  {
   "cell_type": "code",
   "execution_count": 12,
   "id": "8a84c0a0",
   "metadata": {},
   "outputs": [],
   "source": [
    "res = wiki.invoke(\"history of mysore palace\")"
   ]
  },
  {
   "cell_type": "code",
   "execution_count": 13,
   "id": "b73766f4",
   "metadata": {},
   "outputs": [
    {
     "name": "stdout",
     "output_type": "stream",
     "text": [
      "Page: Mysore Palace\n",
      "Summary: Mysore Palace, also known as Amba Vilas Palace, is a historical palace and a royal residence. It is located in Mysore, Karnataka, India. It used to be the official residence of the Wadiyar dynasty and the seat of the Kingdom of Mysore. The palace is in the centre of Mysore, and faces the Chamundi Hills eastward. Mysore is commonly described as the 'City of the Palaces', and there are seven palaces including this one. However, the Mysore Palace refers specifically to \n"
     ]
    }
   ],
   "source": [
    "print(res)"
   ]
  },
  {
   "cell_type": "code",
   "execution_count": 14,
   "id": "f68d419d",
   "metadata": {},
   "outputs": [],
   "source": [
    "from dotenv import load_dotenv\n",
    "load_dotenv()\n",
    "\n",
    "import os\n",
    "\n",
    "#os.environ[\"TAVILY_API_KEY\"] = os.getenv(\"TAVILY_API_KEY\")\n",
    "os.environ[\"GROQ_API_KEY\"] = os.getenv(\"GROQ_API_KEY\")"
   ]
  },
  {
   "cell_type": "code",
   "execution_count": 15,
   "id": "05971558",
   "metadata": {},
   "outputs": [],
   "source": [
    "## combine all tools\n",
    "\n",
    "tools = [arxiv, wiki]"
   ]
  },
  {
   "cell_type": "code",
   "execution_count": 16,
   "id": "87f28c29",
   "metadata": {},
   "outputs": [],
   "source": [
    "## initialize the LLM model\n",
    "\n",
    "from langchain_groq import ChatGroq\n",
    "\n",
    "llm = ChatGroq(model=\"gemma2-9b-it\")\n",
    "\n"
   ]
  },
  {
   "cell_type": "code",
   "execution_count": 17,
   "id": "b4921e62",
   "metadata": {},
   "outputs": [
    {
     "data": {
      "text/plain": [
       "AIMessage(content=\"Mysore Pak is a **traditional Indian sweet** originating from the city of Mysore in Karnataka, India. \\n\\n**Here's what makes it special:**\\n\\n* **Ingredients:** It's primarily made with gram flour (besan), sugar, and ghee (clarified butter).\\n* **Texture:**  It has a unique melt-in-your-mouth texture, being incredibly soft and dense.\\n* **Flavor:**  The sweetness is balanced by the richness of the ghee, creating a decadent and flavorful experience.\\n* **Appearance:**  It's usually golden brown in color and cut into diamond or square shapes.\\n* **Occasion:** Mysore Pak is a popular offering during festivals and special occasions in South India.\\n\\n\\nLet me know if you'd like to know more about its history, variations, or how to make it!\\n\", additional_kwargs={}, response_metadata={'token_usage': {'completion_tokens': 176, 'prompt_tokens': 15, 'total_tokens': 191, 'completion_time': 0.32, 'prompt_time': 0.001914717, 'queue_time': 0.242882047, 'total_time': 0.321914717}, 'model_name': 'gemma2-9b-it', 'system_fingerprint': 'fp_10c08bf97d', 'finish_reason': 'stop', 'logprobs': None}, id='run--aa7264b7-7cc2-48ec-ace4-f9b4e929201f-0', usage_metadata={'input_tokens': 15, 'output_tokens': 176, 'total_tokens': 191})"
      ]
     },
     "execution_count": 17,
     "metadata": {},
     "output_type": "execute_result"
    }
   ],
   "source": [
    "llm.invoke(\"What is mysore pak?\")"
   ]
  },
  {
   "cell_type": "code",
   "execution_count": 18,
   "id": "f0aca88f",
   "metadata": {},
   "outputs": [],
   "source": [
    "llm_with_tools = llm.bind_tools(tools = tools)"
   ]
  },
  {
   "cell_type": "code",
   "execution_count": 19,
   "id": "2a2c7191",
   "metadata": {},
   "outputs": [
    {
     "data": {
      "text/plain": [
       "AIMessage(content='', additional_kwargs={'tool_calls': [{'id': 'call_mp1w', 'function': {'arguments': '{\"query\":\"gold rate in bangalore today\"}', 'name': 'wikipedia'}, 'type': 'function'}]}, response_metadata={'token_usage': {'completion_tokens': 85, 'prompt_tokens': 1067, 'total_tokens': 1152, 'completion_time': 0.154545455, 'prompt_time': 0.037556795, 'queue_time': 0.24567591400000002, 'total_time': 0.19210225}, 'model_name': 'gemma2-9b-it', 'system_fingerprint': 'fp_10c08bf97d', 'finish_reason': 'tool_calls', 'logprobs': None}, id='run--573c1b23-18fa-4b12-b2b5-5f63536a5780-0', tool_calls=[{'name': 'wikipedia', 'args': {'query': 'gold rate in bangalore today'}, 'id': 'call_mp1w', 'type': 'tool_call'}], usage_metadata={'input_tokens': 1067, 'output_tokens': 85, 'total_tokens': 1152})"
      ]
     },
     "execution_count": 19,
     "metadata": {},
     "output_type": "execute_result"
    }
   ],
   "source": [
    "llm_with_tools.invoke(\"what is the gold rate in bangalore today?\")"
   ]
  },
  {
   "cell_type": "markdown",
   "id": "82a66254",
   "metadata": {},
   "source": [
    "### workflow"
   ]
  },
  {
   "cell_type": "code",
   "execution_count": null,
   "id": "f1f632bb",
   "metadata": {},
   "outputs": [],
   "source": [
    "## state schema\n",
    "\n",
    "from typing_extensions import TypedDict\n",
    "from langchain_core.messages import AnyMessage # human msg or AI msg\n",
    "from typing import Annotated ## labelling\n",
    "from langgraph.graph.message import add_messages ##reducers in langgraph"
   ]
  },
  {
   "cell_type": "code",
   "execution_count": 21,
   "id": "81fbfa81",
   "metadata": {},
   "outputs": [],
   "source": [
    "class State(TypedDict):\n",
    "    messages: Annotated[list[AnyMessage],add_messages]\n",
    "    "
   ]
  },
  {
   "cell_type": "code",
   "execution_count": 22,
   "id": "841aac09",
   "metadata": {},
   "outputs": [],
   "source": [
    "## Entire chatbot with langgraph\n",
    "\n",
    "from IPython.display import Image,display\n",
    "from langgraph.graph import StateGraph, START, END\n",
    "from langgraph.prebuilt import ToolNode\n",
    "from langgraph.prebuilt import tools_condition"
   ]
  },
  {
   "cell_type": "code",
   "execution_count": 29,
   "id": "55c01d6f",
   "metadata": {},
   "outputs": [
    {
     "data": {
      "text/plain": [
       "<langgraph.graph.state.StateGraph at 0x275b01b7dc0>"
      ]
     },
     "execution_count": 29,
     "metadata": {},
     "output_type": "execute_result"
    }
   ],
   "source": [
    "## node definition\n",
    "\n",
    "def tool_calling_llm(state:State):\n",
    "    return {\"messages\":[llm_with_tools.invoke(state[\"messages\"])]}\n",
    "\n",
    "builder = StateGraph(State)\n",
    "builder.add_node(\"tool_calling_llm\",tool_calling_llm)\n",
    "builder.add_node(\"tools\", ToolNode(tools))\n",
    "\n",
    "\n",
    "## edges\n",
    "\n",
    "builder.add_edge(START,\"tool_calling_llm\")\n",
    "builder.add_conditional_edges(\n",
    "    \"tool_calling_llm\", \n",
    "    # if the latest message (result) from assistant is a tool call- > tools_condition routes to tools\n",
    "    # if the latest message (result) from assistant is not a tool call --> tools_condition routes to END\n",
    "    \n",
    "    tools_condition\n",
    ")\n",
    "\n",
    "builder.add_edge(\"tools\",END)"
   ]
  },
  {
   "cell_type": "code",
   "execution_count": 30,
   "id": "fc9ea9c5",
   "metadata": {},
   "outputs": [],
   "source": [
    "# compile\n",
    "\n",
    "graph = builder.compile()"
   ]
  },
  {
   "cell_type": "code",
   "execution_count": 31,
   "id": "435ad2d0",
   "metadata": {},
   "outputs": [
    {
     "data": {
      "image/png": "[encoded data removed]",
      "text/plain": [
       "<IPython.core.display.Image object>"
      ]
     },
     "metadata": {},
     "output_type": "display_data"
    }
   ],
   "source": [
    "display(Image(graph.get_graph().draw_mermaid_png()))"
   ]
  },
  {
   "cell_type": "code",
   "execution_count": 33,
   "id": "6e016c69",
   "metadata": {},
   "outputs": [
    {
     "name": "stdout",
     "output_type": "stream",
     "text": [
      "================================\u001b[1m Human Message \u001b[0m=================================\n",
      "\n",
      "1706.03762\n",
      "==================================\u001b[1m Ai Message \u001b[0m==================================\n",
      "Tool Calls:\n",
      "  arxiv (call_gw5p)\n",
      " Call ID: call_gw5p\n",
      "  Args:\n",
      "    query: 1706.03762\n",
      "=================================\u001b[1m Tool Message \u001b[0m=================================\n",
      "Name: arxiv\n",
      "\n",
      "Published: 2023-08-02\n",
      "Title: Attention Is All You Need\n",
      "Authors: Ashish Vaswani, Noam Shazeer, Niki Parmar, Jakob Uszkoreit, Llion Jones, Aidan N. Gomez, Lukasz Kaiser, Illia Polosukhin\n",
      "Summary: The dominant sequence transduction models are based on complex recurrent or\n",
      "convolutional neural networks in an encoder-decoder configuration. The best\n",
      "performing models also connect the encoder and decoder through an attention\n",
      "mechanism. We propose a new simple network architecture, the Transformer, base\n"
     ]
    }
   ],
   "source": [
    "messages = graph.invoke({\"messages\":\"1706.03762\"})\n",
    "\n",
    "for m in messages['messages']:\n",
    "    m.pretty_print()"
   ]
  },
  {
   "cell_type": "code",
   "execution_count": null,
   "id": "1803a25c",
   "metadata": {},
   "outputs": [
    {
     "name": "stdout",
     "output_type": "stream",
     "text": [
      "================================\u001b[1m Human Message \u001b[0m=================================\n",
      "\n",
      "what is the current gold price?\n",
      "==================================\u001b[1m Ai Message \u001b[0m==================================\n",
      "Tool Calls:\n",
      "  wikipedia (call_0e9v)\n",
      " Call ID: call_0e9v\n",
      "  Args:\n",
      "    query: gold price\n",
      "=================================\u001b[1m Tool Message \u001b[0m=================================\n",
      "Name: wikipedia\n",
      "\n",
      "Page: Gold as an investment\n",
      "Summary: Of all the precious metals, gold is the most popular as an investment. Investors generally buy gold as a way of diversifying risk, especially through the use of futures contracts and derivatives. The gold market is subject to speculation and volatility as are other markets.  Compared to other precious metals used for investment, gold has been the most effective safe haven across a number of countries.\n",
      "\n",
      "\n"
     ]
    }
   ],
   "source": [
    "messages = graph.invoke({\"messages\":\"what is the current gold price?\"})\n",
    "\n",
    "for m in messages['messages']:\n",
    "    m.pretty_print()"
   ]
  },
  {
   "cell_type": "code",
   "execution_count": 38,
   "id": "05e9394f",
   "metadata": {},
   "outputs": [
    {
     "name": "stdout",
     "output_type": "stream",
     "text": [
      "================================\u001b[1m Human Message \u001b[0m=================================\n",
      "\n",
      "Hi, My name is Bharath\n",
      "==================================\u001b[1m Ai Message \u001b[0m==================================\n",
      "Tool Calls:\n",
      "  wikipedia (call_gdf5)\n",
      " Call ID: call_gdf5\n",
      "  Args:\n",
      "    query: Bharath\n",
      "=================================\u001b[1m Tool Message \u001b[0m=================================\n",
      "Name: wikipedia\n",
      "\n",
      "No good Wikipedia Search Result was found\n"
     ]
    },
    {
     "name": "stderr",
     "output_type": "stream",
     "text": [
      "c:\\Users\\Star\\anaconda3\\envs\\langgraph\\lib\\site-packages\\wikipedia\\wikipedia.py:389: GuessedAtParserWarning: No parser was explicitly specified, so I'm using the best available HTML parser for this system (\"html.parser\"). This usually isn't a problem, but if you run this code on another system, or in a different virtual environment, it may use a different parser and behave differently.\n",
      "\n",
      "The code that caused this warning is on line 389 of the file c:\\Users\\Star\\anaconda3\\envs\\langgraph\\lib\\site-packages\\wikipedia\\wikipedia.py. To get rid of this warning, pass the additional argument 'features=\"html.parser\"' to the BeautifulSoup constructor.\n",
      "\n",
      "  lis = BeautifulSoup(html).find_all('li')\n"
     ]
    }
   ],
   "source": [
    "messages = graph.invoke({\"messages\":\"Hi, My name is Bharath\"})\n",
    "\n",
    "for m in messages['messages']:\n",
    "    m.pretty_print()"
   ]
  },
  {
   "cell_type": "code",
   "execution_count": 39,
   "id": "18340819",
   "metadata": {},
   "outputs": [
    {
     "data": {
      "text/plain": [
       "<langgraph.graph.state.StateGraph at 0x275b0327c40>"
      ]
     },
     "execution_count": 39,
     "metadata": {},
     "output_type": "execute_result"
    }
   ],
   "source": [
    "builder1 = StateGraph(State)\n",
    "builder1.add_node(\"tool_calling_llm\",tool_calling_llm)\n",
    "builder1.add_node(\"tools\", ToolNode(tools))\n",
    "\n",
    "\n",
    "## edges\n",
    "\n",
    "builder1.add_edge(START,\"tool_calling_llm\")\n",
    "builder1.add_conditional_edges(\n",
    "    \"tool_calling_llm\", \n",
    "    # if the latest message (result) from assistant is a tool call- > tools_condition routes to tools\n",
    "    # if the latest message (result) from assistant is not a tool call --> tools_condition routes to END\n",
    "    \n",
    "    tools_condition\n",
    ")\n",
    "\n",
    "builder1.add_edge(\"tools\",\"tool_calling_llm\")"
   ]
  },
  {
   "cell_type": "code",
   "execution_count": 42,
   "id": "c55d565e",
   "metadata": {},
   "outputs": [],
   "source": [
    "# compile\n",
    "\n",
    "graph1 = builder1.compile()"
   ]
  },
  {
   "cell_type": "code",
   "execution_count": 43,
   "id": "5afc6354",
   "metadata": {},
   "outputs": [
    {
     "data": {
      "image/png": "[encoded data removed]",
      "text/plain": [
       "<IPython.core.display.Image object>"
      ]
     },
     "metadata": {},
     "output_type": "display_data"
    }
   ],
   "source": [
    "display(Image(graph1.get_graph().draw_mermaid_png()))"
   ]
  },
  {
   "cell_type": "code",
   "execution_count": 46,
   "id": "5630ad17",
   "metadata": {},
   "outputs": [
    {
     "name": "stdout",
     "output_type": "stream",
     "text": [
      "================================\u001b[1m Human Message \u001b[0m=================================\n",
      "\n",
      "Gold price today\n",
      "==================================\u001b[1m Ai Message \u001b[0m==================================\n",
      "Tool Calls:\n",
      "  wikipedia (call_d02t)\n",
      " Call ID: call_d02t\n",
      "  Args:\n",
      "    query: gold price\n",
      "=================================\u001b[1m Tool Message \u001b[0m=================================\n",
      "Name: wikipedia\n",
      "\n",
      "Page: Gold as an investment\n",
      "Summary: Of all the precious metals, gold is the most popular as an investment. Investors generally buy gold as a way of diversifying risk, especially through the use of futures contracts and derivatives. The gold market is subject to speculation and volatility as are other markets.  Compared to other precious metals used for investment, gold has been the most effective safe haven across a number of countries.\n",
      "\n",
      "\n",
      "==================================\u001b[1m Ai Message \u001b[0m==================================\n",
      "\n",
      "Gold prices fluctuate daily and are best found on a financial website or news source.\n"
     ]
    }
   ],
   "source": [
    "messages = graph1.invoke({\"messages\":\"Gold price today\"})\n",
    "\n",
    "for m in messages['messages']:\n",
    "    m.pretty_print()"
   ]
  },
  {
   "cell_type": "code",
   "execution_count": 48,
   "id": "a74578d7",
   "metadata": {},
   "outputs": [
    {
     "name": "stdout",
     "output_type": "stream",
     "text": [
      "================================\u001b[1m Human Message \u001b[0m=================================\n",
      "\n",
      "Hi, my name is Bharath, please give me the latest research paper on GenAI\n",
      "==================================\u001b[1m Ai Message \u001b[0m==================================\n",
      "Tool Calls:\n",
      "  arxiv (call_qm79)\n",
      " Call ID: call_qm79\n",
      "  Args:\n",
      "    query: Generative AI\n",
      "=================================\u001b[1m Tool Message \u001b[0m=================================\n",
      "Name: arxiv\n",
      "\n",
      "Published: 2025-02-16\n",
      "Title: AI Generations: From AI 1.0 to AI 4.0\n",
      "Authors: Jiahao Wu, Hengxu You, Jing Du\n",
      "Summary: This paper proposes that Artificial Intelligence (AI) progresses through\n",
      "several overlapping generations: AI 1.0 (Information AI), AI 2.0 (Agentic AI),\n",
      "AI 3.0 (Physical AI), and now a speculative AI 4.0 (Conscious AI). Each of\n",
      "these AI generations is driven by shifting priorities among algorithms,\n",
      "computing power, and data. AI 1.0 ushered in breakthroughs in pattern\n",
      "recognition and\n",
      "==================================\u001b[1m Ai Message \u001b[0m==================================\n",
      "\n",
      "The latest research paper on GenAI is titled \"AI Generations: From AI 1.0 to AI 4.0\" published in February 2025.  It was written by Jiahao Wu, Hengxu You, and Jing Du.\n"
     ]
    }
   ],
   "source": [
    "messages = graph1.invoke({\"messages\":\"Hi, my name is Bharath, please give me the latest research paper on GenAI\"})\n",
    "\n",
    "for m in messages['messages']:\n",
    "    m.pretty_print()"
   ]
  },
  {
   "cell_type": "code",
   "execution_count": null,
   "id": "39e1e87f",
   "metadata": {},
   "outputs": [],
   "source": []
  }
 ],
 "metadata": {
  "kernelspec": {
   "display_name": "langgraph",
   "language": "python",
   "name": "python3"
  },
  "language_info": {
   "codemirror_mode": {
    "name": "ipython",
    "version": 3
   },
   "file_extension": ".py",
   "mimetype": "text/x-python",
   "name": "python",
   "nbconvert_exporter": "python",
   "pygments_lexer": "ipython3",
   "version": "3.10.16"
  }
 },
 "nbformat": 4,
 "nbformat_minor": 5
}
