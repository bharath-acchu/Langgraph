{
 "cells": [
  {
   "cell_type": "code",
   "execution_count": 1,
   "id": "2efa8c81",
   "metadata": {},
   "outputs": [
    {
     "name": "stdout",
     "output_type": "stream",
     "text": [
      "hello, langgraph!!\n"
     ]
    }
   ],
   "source": [
    "print(\"hello, langgraph!!\")"
   ]
  },
  {
   "cell_type": "markdown",
   "id": "396f2bc7",
   "metadata": {},
   "source": [
    "##### 1. First, define the state of the graph\n",
    "\n",
    "##### 2. The state schema serves as an input to the every node and edges in the graph\n",
    "\n",
    "##### 3. use TypedDict class from typing module which provides type hints for the keys"
   ]
  },
  {
   "cell_type": "code",
   "execution_count": 3,
   "id": "e5c889d0",
   "metadata": {},
   "outputs": [],
   "source": [
    "from typing_extensions import TypedDict\n",
    "\n",
    "class State(TypedDict):\n",
    "    graph_info:str"
   ]
  },
  {
   "cell_type": "code",
   "execution_count": 4,
   "id": "cffa3438",
   "metadata": {},
   "outputs": [],
   "source": [
    "def start_play(state:State):\n",
    "    print(\"Start play node has been called\")\n",
    "    return {\"graph_info\":state['graph_info']+\"I'm planning to play\"}\n",
    "\n",
    "def cricket(state:State):\n",
    "    print(\"Cricked node has been called\")\n",
    "    return {\"graph_info\":state['graph_info']+\"Cricket\"}\n",
    "\n",
    "\n",
    "def hockey(state:State):\n",
    "    print(\"hockey node has been called\")\n",
    "    return {\"graph_info\":state['graph_info']+\"Hockey\"}"
   ]
  },
  {
   "cell_type": "code",
   "execution_count": 5,
   "id": "0b73ddd7",
   "metadata": {},
   "outputs": [],
   "source": [
    "import random\n",
    "from typing import Literal\n",
    "\n",
    "def random_play(state:State) -> Literal['cricket','hockey']:\n",
    "    if random.random() > 1:\n",
    "        return 'cricket'\n",
    "    else:\n",
    "        return 'hockey'\n",
    "    "
   ]
  },
  {
   "cell_type": "code",
   "execution_count": 6,
   "id": "eaeea2c4",
   "metadata": {},
   "outputs": [
    {
     "data": {
      "text/plain": [
       "<langgraph.graph.state.StateGraph at 0x1541a7395a0>"
      ]
     },
     "execution_count": 6,
     "metadata": {},
     "output_type": "execute_result"
    }
   ],
   "source": [
    "from IPython.display import Image,display\n",
    "from langgraph.graph import StateGraph,START,END\n",
    "\n",
    "\n",
    "## Buid graph\n",
    "\n",
    "graph = StateGraph(State)\n",
    "\n",
    "## add all the nodes\n",
    "\n",
    "graph.add_node(\"start_play\", start_play)\n",
    "graph.add_node(\"cricket\", cricket)\n",
    "graph.add_node(\"hockey\", hockey)\n",
    "\n",
    "\n",
    "## schedule the flow\n",
    "\n",
    "graph.add_edge(START,\"start_play\")\n",
    "graph.add_conditional_edges('start_play',random_play)\n",
    "graph.add_edge(\"cricket\", END)\n",
    "graph.add_edge(\"hockey\",END)"
   ]
  },
  {
   "cell_type": "code",
   "execution_count": 7,
   "id": "0dff9ae2",
   "metadata": {},
   "outputs": [
    {
     "data": {
      "image/png": "[encoded data removed]",
      "text/plain": [
       "<IPython.core.display.Image object>"
      ]
     },
     "metadata": {},
     "output_type": "display_data"
    }
   ],
   "source": [
    "## complie the graph\n",
    "\n",
    "graph_builder = graph.compile()\n",
    "\n",
    "\n",
    "## view\n",
    "display(Image(graph_builder.get_graph().draw_mermaid_png()))"
   ]
  },
  {
   "cell_type": "code",
   "execution_count": 10,
   "id": "ac744150",
   "metadata": {},
   "outputs": [
    {
     "name": "stdout",
     "output_type": "stream",
     "text": [
      "Start play node has been called\n",
      "hockey node has been called\n"
     ]
    },
    {
     "data": {
      "text/plain": [
       "{'graph_info': \"My name is bharathI'm planning to playHockey\"}"
      ]
     },
     "execution_count": 10,
     "metadata": {},
     "output_type": "execute_result"
    }
   ],
   "source": [
    "graph_builder.invoke({\"graph_info\":\"My name is bharath\"})"
   ]
  },
  {
   "cell_type": "code",
   "execution_count": null,
   "id": "dcf71331",
   "metadata": {},
   "outputs": [],
   "source": []
  },
  {
   "cell_type": "code",
   "execution_count": null,
   "id": "41b83cdc",
   "metadata": {},
   "outputs": [],
   "source": []
  },
  {
   "cell_type": "code",
   "execution_count": null,
   "id": "072e8d79",
   "metadata": {},
   "outputs": [],
   "source": []
  }
 ],
 "metadata": {
  "kernelspec": {
   "display_name": "langgraph",
   "language": "python",
   "name": "python3"
  },
  "language_info": {
   "codemirror_mode": {
    "name": "ipython",
    "version": 3
   },
   "file_extension": ".py",
   "mimetype": "text/x-python",
   "name": "python",
   "nbconvert_exporter": "python",
   "pygments_lexer": "ipython3",
   "version": "3.10.16"
  }
 },
 "nbformat": 4,
 "nbformat_minor": 5
}
