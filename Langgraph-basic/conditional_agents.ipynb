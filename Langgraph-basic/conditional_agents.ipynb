{
 "cells": [
  {
   "cell_type": "code",
   "execution_count": 1,
   "id": "6470ae36",
   "metadata": {},
   "outputs": [
    {
     "data": {
      "text/plain": [
       "5"
      ]
     },
     "execution_count": 1,
     "metadata": {},
     "output_type": "execute_result"
    }
   ],
   "source": [
    "2+3"
   ]
  },
  {
   "cell_type": "code",
   "execution_count": 3,
   "id": "2f0d2dfe",
   "metadata": {},
   "outputs": [],
   "source": [
    "from typing import TypedDict, List\n",
    "from langgraph.graph import StateGraph, START,END"
   ]
  },
  {
   "cell_type": "code",
   "execution_count": 4,
   "id": "7fe5c502",
   "metadata": {},
   "outputs": [],
   "source": [
    "class AgentState(TypedDict):\n",
    "    num1:int\n",
    "    num2:int\n",
    "    oper:str\n",
    "    final:int"
   ]
  },
  {
   "cell_type": "code",
   "execution_count": 6,
   "id": "efb0dced",
   "metadata": {},
   "outputs": [],
   "source": [
    "def adder(state:AgentState)->AgentState:\n",
    "    \"\"\"This node adds to numbers\"\"\"\n",
    "\n",
    "    state['final'] = state['num1']+state['num2']\n",
    "    return state\n",
    "\n",
    "def subtract(state:AgentState)->AgentState:\n",
    "    \"\"\"This node subtracts to numbers\"\"\"\n",
    "\n",
    "    state['final'] = state['num1']-state['num2']\n",
    "    return state\n",
    "\n",
    "def decide_next_node(state:AgentState)->AgentState:\n",
    "    \"\"\"This node will select the enxt node of the graph\"\"\"\n",
    "\n",
    "    if state[\"oper\"] == \"+\":\n",
    "        return \"additional_operator\"\n",
    "    else:\n",
    "        return \"sunbtraction_operator\""
   ]
  },
  {
   "cell_type": "code",
   "execution_count": 7,
   "id": "d417665e",
   "metadata": {},
   "outputs": [],
   "source": [
    "graph  = StateGraph(AgentState)\n",
    "\n",
    "graph.add_node(\"adder\",adder)\n",
    "graph.add_node(\"subtract\",subtract)\n",
    "graph.add_node(\"router\", lambda  state:state) # pass through function\n",
    "graph.add_edge(START,\"router\")\n",
    "\n",
    "graph.add_conditional_edges(\n",
    "    \"router\",\n",
    "    decide_next_node,\n",
    "    {\n",
    "        \"additional_operator\":\"adder\",\n",
    "        \"sunbtraction_operator\":\"subtract\"\n",
    "    }\n",
    ")\n",
    "\n",
    "\n",
    "graph.add_edge(\"adder\",END)\n",
    "graph.add_edge(\"subtract\",END)\n",
    "\n",
    "\n",
    "app = graph.compile()\n"
   ]
  },
  {
   "cell_type": "code",
   "execution_count": 8,
   "id": "bc0ca4fb",
   "metadata": {},
   "outputs": [
    {
     "data": {
      "image/png": "[encoded data removed]",
      "text/plain": [
       "<IPython.core.display.Image object>"
      ]
     },
     "metadata": {},
     "output_type": "display_data"
    }
   ],
   "source": [
    "from IPython.display import display,Image\n",
    "\n",
    "display(Image(app.get_graph().draw_mermaid_png()))"
   ]
  },
  {
   "cell_type": "code",
   "execution_count": 13,
   "id": "492f30ff",
   "metadata": {},
   "outputs": [],
   "source": [
    "res = app.invoke({\"num1\":3,\"num2\":4,\"oper\":\"+\"})"
   ]
  },
  {
   "cell_type": "code",
   "execution_count": 14,
   "id": "80540e35",
   "metadata": {},
   "outputs": [
    {
     "data": {
      "text/plain": [
       "7"
      ]
     },
     "execution_count": 14,
     "metadata": {},
     "output_type": "execute_result"
    }
   ],
   "source": [
    "res['final']"
   ]
  },
  {
   "cell_type": "code",
   "execution_count": 16,
   "id": "f27d17bd",
   "metadata": {},
   "outputs": [
    {
     "data": {
      "text/plain": [
       "-1"
      ]
     },
     "execution_count": 16,
     "metadata": {},
     "output_type": "execute_result"
    }
   ],
   "source": [
    "# different way of invoking\n",
    "\n",
    "data = AgentState(num1=4,num2=5,oper=\"-\")\n",
    "res = app.invoke(data)\n",
    "res['final']"
   ]
  },
  {
   "cell_type": "code",
   "execution_count": null,
   "id": "18ec3bc0",
   "metadata": {},
   "outputs": [],
   "source": []
  }
 ],
 "metadata": {
  "kernelspec": {
   "display_name": "langgraph",
   "language": "python",
   "name": "python3"
  },
  "language_info": {
   "codemirror_mode": {
    "name": "ipython",
    "version": 3
   },
   "file_extension": ".py",
   "mimetype": "text/x-python",
   "name": "python",
   "nbconvert_exporter": "python",
   "pygments_lexer": "ipython3",
   "version": "3.10.16"
  }
 },
 "nbformat": 4,
 "nbformat_minor": 5
}
