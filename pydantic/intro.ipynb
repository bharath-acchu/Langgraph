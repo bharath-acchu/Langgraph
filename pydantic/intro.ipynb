{
 "cells": [
  {
   "cell_type": "code",
   "execution_count": 1,
   "id": "f88ad3c8",
   "metadata": {},
   "outputs": [
    {
     "data": {
      "text/plain": [
       "5"
      ]
     },
     "execution_count": 1,
     "metadata": {},
     "output_type": "execute_result"
    }
   ],
   "source": [
    "2+3"
   ]
  },
  {
   "cell_type": "code",
   "execution_count": 2,
   "id": "f3caa764",
   "metadata": {},
   "outputs": [],
   "source": [
    "from pydantic import BaseModel"
   ]
  },
  {
   "cell_type": "code",
   "execution_count": 13,
   "id": "461e339b",
   "metadata": {},
   "outputs": [
    {
     "name": "stdout",
     "output_type": "stream",
     "text": [
      "name='Bharath' age=26 city='Bangalore'\n"
     ]
    }
   ],
   "source": [
    "class Person(BaseModel):\n",
    "    name:str\n",
    "    age:int\n",
    "    city:str\n",
    "\n",
    "perso = Person( name=\"Bharath\",age=\"26\",city=\"Bangalore\")\n",
    "print(perso)\n"
   ]
  },
  {
   "cell_type": "code",
   "execution_count": 5,
   "id": "8dd5a137",
   "metadata": {},
   "outputs": [
    {
     "data": {
      "text/plain": [
       "Person(name='Bharath', age=26, city='Bangalore')"
      ]
     },
     "execution_count": 5,
     "metadata": {},
     "output_type": "execute_result"
    }
   ],
   "source": [
    "perso"
   ]
  },
  {
   "cell_type": "code",
   "execution_count": 10,
   "id": "a959f557",
   "metadata": {},
   "outputs": [
    {
     "name": "stdout",
     "output_type": "stream",
     "text": [
      "Person(name='Bharath', age='26', city='Bangalore')\n"
     ]
    }
   ],
   "source": [
    "from dataclasses import dataclass\n",
    "\n",
    "@dataclass\n",
    "class Person():\n",
    "    name:str\n",
    "    age:int\n",
    "    city:str\n",
    "\n",
    "person = Person( name=\"Bharath\",age=\"26\",city=\"Bangalore\")\n",
    "print(person)"
   ]
  },
  {
   "cell_type": "code",
   "execution_count": 18,
   "id": "3e40425c",
   "metadata": {},
   "outputs": [
    {
     "name": "stdout",
     "output_type": "stream",
     "text": [
      "name='Acchu' age=22 city='Bengaluru'\n"
     ]
    }
   ],
   "source": [
    "per1 = Person(name=\"Acchu\",age=\"22\",city=\"Bengaluru\")\n",
    "print(per1)"
   ]
  },
  {
   "cell_type": "markdown",
   "id": "af9c2e44",
   "metadata": {},
   "source": [
    "### You can make use of Option for optional field/default value"
   ]
  },
  {
   "cell_type": "code",
   "execution_count": 20,
   "id": "3d5896b0",
   "metadata": {},
   "outputs": [],
   "source": [
    "from typing import Optional\n",
    "\n",
    "class Employee(BaseModel):\n",
    "    name:str\n",
    "    id:int\n",
    "    salary:Optional[float] = None\n",
    "    department: str\n",
    "    is_activate: Optional[bool] = True\n",
    "\n",
    "emp = Employee(name=\"Rez\",id='2332',department='IT')\n"
   ]
  },
  {
   "cell_type": "code",
   "execution_count": 21,
   "id": "1574f2a4",
   "metadata": {},
   "outputs": [
    {
     "name": "stdout",
     "output_type": "stream",
     "text": [
      "name='Rez' id=2332 salary=None department='IT' is_activate=True\n"
     ]
    }
   ],
   "source": [
    "print(emp)"
   ]
  },
  {
   "cell_type": "code",
   "execution_count": 24,
   "id": "3fcf864d",
   "metadata": {},
   "outputs": [],
   "source": [
    "emp1 = Employee(name=\"\",id=1234,department='HR')"
   ]
  },
  {
   "cell_type": "code",
   "execution_count": 25,
   "id": "3ce37b8f",
   "metadata": {},
   "outputs": [
    {
     "data": {
      "text/plain": [
       "Employee(name='', id=1234, salary=None, department='HR', is_activate=True)"
      ]
     },
     "execution_count": 25,
     "metadata": {},
     "output_type": "execute_result"
    }
   ],
   "source": [
    "emp1"
   ]
  },
  {
   "cell_type": "code",
   "execution_count": 26,
   "id": "bd614a8d",
   "metadata": {},
   "outputs": [
    {
     "name": "stdout",
     "output_type": "stream",
     "text": [
      "1 validation error for Employee\n",
      "name\n",
      "  Field required [type=missing, input_value={'id': 1234, 'department': 'HR'}, input_type=dict]\n",
      "    For further information visit https://errors.pydantic.dev/2.11/v/missing\n"
     ]
    }
   ],
   "source": [
    "try:\n",
    "    emp2 = Employee(id=1234,department='HR')\n",
    "except ValueError as e:\n",
    "    print(e)"
   ]
  },
  {
   "cell_type": "markdown",
   "id": "5048de94",
   "metadata": {},
   "source": [
    "### We can make use of Nested Models"
   ]
  },
  {
   "cell_type": "code",
   "execution_count": 27,
   "id": "7230e600",
   "metadata": {},
   "outputs": [
    {
     "name": "stdout",
     "output_type": "stream",
     "text": [
      "id=123 price=5999.99 delivery=Address(city='D.Bpur', district='B.Rural', zipcode=56001)\n"
     ]
    }
   ],
   "source": [
    "class Address(BaseModel):\n",
    "    city:str\n",
    "    district:str\n",
    "    zipcode:int\n",
    "\n",
    "class Product(BaseModel):\n",
    "    id:int\n",
    "    price:float\n",
    "    delivery:Address\n",
    "\n",
    "buy_product = Product(id=123,price=5999.99,delivery={\"city\":\"D.Bpur\",\"district\":\"B.Rural\",\"zipcode\":56001})\n",
    "print(buy_product)"
   ]
  },
  {
   "cell_type": "markdown",
   "id": "e4850774",
   "metadata": {},
   "source": [
    "### Pydantic fields: Customizations and Constraints\n",
    "\n",
    "The field function in Pydantic enhances model fields beyond basic type hints by allowing to specify validation rules, default values, aliases and more"
   ]
  },
  {
   "cell_type": "code",
   "execution_count": 28,
   "id": "8f85eaab",
   "metadata": {},
   "outputs": [
    {
     "name": "stdout",
     "output_type": "stream",
     "text": [
      "name='Shampoo' price=120.98 quantity=2\n"
     ]
    }
   ],
   "source": [
    "from pydantic import BaseModel,Field \n",
    "\n",
    "class Item(BaseModel):\n",
    "    name:str=Field(min_length=3,max_length=100)\n",
    "    price:float=Field(le=1000,gt=0)\n",
    "    quantity:int=Field(ge=0)\n",
    "\n",
    "\n",
    "it1 = Item(name=\"Shampoo\",price=\"120.98\",quantity=\"2\")\n",
    "\n",
    "print(it1)"
   ]
  },
  {
   "cell_type": "code",
   "execution_count": 29,
   "id": "77cf913d",
   "metadata": {},
   "outputs": [
    {
     "name": "stdout",
     "output_type": "stream",
     "text": [
      "1 validation error for Item\n",
      "price\n",
      "  Input should be less than or equal to 1000 [type=less_than_equal, input_value='1200.98', input_type=str]\n",
      "    For further information visit https://errors.pydantic.dev/2.11/v/less_than_equal\n"
     ]
    }
   ],
   "source": [
    "try:\n",
    "    it2 = Item(name=\"Shampoo\",price=\"1200.98\",quantity=\"2\")\n",
    "    print(it2)\n",
    "except ValueError as e:\n",
    "    print(e)"
   ]
  },
  {
   "cell_type": "code",
   "execution_count": 30,
   "id": "7e1abede",
   "metadata": {},
   "outputs": [
    {
     "name": "stdout",
     "output_type": "stream",
     "text": [
      "UserName='Acchu' age=26 email='user@example.com'\n"
     ]
    }
   ],
   "source": [
    "class Netflix(BaseModel):\n",
    "    UserName:str = Field(..., description=\"It should be unique name\")\n",
    "    age: int = Field(default=18, description=\"Age defaults to 18 if not specified\")\n",
    "    email:str = Field(default_factory=lambda:\"user@example.com\", description=\"defaults to user@gmail.com\")\n",
    "\n",
    "user1 = Netflix(UserName='Acchu',age=26)\n",
    "print(user1)\n"
   ]
  },
  {
   "cell_type": "code",
   "execution_count": 33,
   "id": "f7942b92",
   "metadata": {},
   "outputs": [
    {
     "name": "stdout",
     "output_type": "stream",
     "text": [
      "{'properties': {'UserName': {'description': 'It should be unique name', 'title': 'Username', 'type': 'string'}, 'age': {'default': 18, 'description': 'Age defaults to 18 if not specified', 'title': 'Age', 'type': 'integer'}, 'email': {'description': 'defaults to user@gmail.com', 'title': 'Email', 'type': 'string'}}, 'required': ['UserName'], 'title': 'Netflix', 'type': 'object'}\n"
     ]
    }
   ],
   "source": [
    "print(Netflix.model_json_schema())"
   ]
  },
  {
   "cell_type": "code",
   "execution_count": null,
   "id": "082c9433",
   "metadata": {},
   "outputs": [],
   "source": []
  }
 ],
 "metadata": {
  "kernelspec": {
   "display_name": "langgraph",
   "language": "python",
   "name": "python3"
  },
  "language_info": {
   "codemirror_mode": {
    "name": "ipython",
    "version": 3
   },
   "file_extension": ".py",
   "mimetype": "text/x-python",
   "name": "python",
   "nbconvert_exporter": "python",
   "pygments_lexer": "ipython3",
   "version": "3.10.16"
  }
 },
 "nbformat": 4,
 "nbformat_minor": 5
}
